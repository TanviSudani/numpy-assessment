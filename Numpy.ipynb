{
 "cells": [
  {
   "cell_type": "code",
   "execution_count": 1,
   "id": "421ba173",
   "metadata": {},
   "outputs": [],
   "source": [
    "import numpy as np"
   ]
  },
  {
   "cell_type": "code",
   "execution_count": 10,
   "id": "96678e34",
   "metadata": {},
   "outputs": [
    {
     "name": "stdout",
     "output_type": "stream",
     "text": [
      "arr1 : [ 11  22  33  44  55  66  77  88  99 100]\n",
      "arr2 : [[ 11  22  33  44  55]\n",
      " [ 66  77  88  99 100]]\n"
     ]
    }
   ],
   "source": [
    "# Q.1 Convert a 1D array to a 2D array with 2 rows \n",
    "\n",
    "arr1 = np.array([11,22,33,44,55,66,77,88,99,100])\n",
    "\n",
    "arr2 = arr1.reshape(2,-1)\n",
    "\n",
    "print(\"arr1 :\",arr1)\n",
    "print(\"arr2 :\",arr2)\n"
   ]
  },
  {
   "cell_type": "code",
   "execution_count": 12,
   "id": "22eaedcb",
   "metadata": {},
   "outputs": [
    {
     "data": {
      "text/plain": [
       "array([2, 4])"
      ]
     },
     "execution_count": 12,
     "metadata": {},
     "output_type": "execute_result"
    }
   ],
   "source": [
    "# Q.2 Get the common items between a and b \n",
    "\n",
    "a = np.array([1,2,3,2,3,4,3,4,5,6])\n",
    "b = np.array([7,2,10,2,7,4,9,4,9,8])\n",
    "\n",
    "common_items = np.intersect1d(a, b)\n",
    "\n",
    "common_items"
   ]
  },
  {
   "cell_type": "code",
   "execution_count": 22,
   "id": "42b3efb3",
   "metadata": {},
   "outputs": [
    {
     "data": {
      "text/plain": [
       "array([ 6,  9, 10])"
      ]
     },
     "execution_count": 22,
     "metadata": {},
     "output_type": "execute_result"
    }
   ],
   "source": [
    "# Q.3 Get all items between 5 and 10 from a.\n",
    "\n",
    "a = np.array([2,6,1,9,10,3,27])\n",
    "b = a[(a >= 5) & (a <= 10)]\n",
    "\n",
    "b"
   ]
  },
  {
   "cell_type": "code",
   "execution_count": 25,
   "id": "3ea33eaf",
   "metadata": {},
   "outputs": [
    {
     "name": "stdout",
     "output_type": "stream",
     "text": [
      "['0' '1' '2' '...' '12' '13' '14']\n"
     ]
    }
   ],
   "source": [
    "# Q.4 Limit the number of items printed in python NumPy array a to a maximum of 6 elements.\n",
    "\n",
    "a = np.array([0, 1, 2, 3, 4, 5, 6, 7, 8, 9, 10, 11, 12, 13, 14])\n",
    "\n",
    "if len(a) > 6:\n",
    "    print(np.concatenate([a[:3], ['...'], a[-3:]]))\n",
    "else:\n",
    "    print(a)"
   ]
  },
  {
   "cell_type": "code",
   "execution_count": null,
   "id": "ecf1fefc",
   "metadata": {},
   "outputs": [],
   "source": []
  }
 ],
 "metadata": {
  "kernelspec": {
   "display_name": "Python 3 (ipykernel)",
   "language": "python",
   "name": "python3"
  },
  "language_info": {
   "codemirror_mode": {
    "name": "ipython",
    "version": 3
   },
   "file_extension": ".py",
   "mimetype": "text/x-python",
   "name": "python",
   "nbconvert_exporter": "python",
   "pygments_lexer": "ipython3",
   "version": "3.10.9"
  }
 },
 "nbformat": 4,
 "nbformat_minor": 5
}
